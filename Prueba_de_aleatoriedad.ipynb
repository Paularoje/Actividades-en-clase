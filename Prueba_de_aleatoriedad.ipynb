{
  "nbformat": 4,
  "nbformat_minor": 0,
  "metadata": {
    "colab": {
      "name": "Test de aleatoriedad.ipynb",
      "provenance": [],
      "collapsed_sections": []
    },
    "kernelspec": {
      "name": "python3",
      "display_name": "Python 3"
    },
    "language_info": {
      "name": "python"
    }
  },
  "cells": [
    {
      "cell_type": "code",
      "source": [
        "import numpy as np\n",
        "import math\n",
        "import statistics\n",
        "from scipy import special as spc"
      ],
      "metadata": {
        "id": "vTperI0dXidd"
      },
      "execution_count": null,
      "outputs": []
    },
    {
      "cell_type": "code",
      "execution_count": null,
      "metadata": {
        "colab": {
          "base_uri": "https://localhost:8080/"
        },
        "id": "f1dl5ArXU6UW",
        "outputId": "a09d40b6-7dc5-4c91-a773-cc3d620b4355"
      },
      "outputs": [
        {
          "output_type": "stream",
          "name": "stdout",
          "text": [
            "[1, 1, 1, 0, 1, 1, 0, 1, 1, 0, 1, 0, 0, 1, 0, 0, 0, 1, 0, 1, 1, 1, 0, 0, 1, 0, 1, 1, 0, 0]\n"
          ]
        }
      ],
      "source": [
        "n=30\n",
        "seq=[]\n",
        "for _ in range(n):\n",
        "  num=np.random.randint(0,2)\n",
        "  seq.append(num)\n",
        "print(seq)\n",
        "#seq = np.ones(30)\n"
      ]
    },
    {
      "cell_type": "code",
      "source": [
        "# 2.1. Frequency (Monobit) Test\n",
        "\n",
        "count = 0\n",
        "for char in seq:\n",
        "  if char == 0:\n",
        "      count -= 1\n",
        "  else:\n",
        "      count += 1\n",
        "print(count)\n",
        "\n",
        "sobs = count / math.sqrt(len(seq))\n",
        "p_val = spc.erfc(math.fabs(sobs) / math.sqrt(2))\n",
        "\n",
        "print(\"p-value = \",p_val)\n",
        "\n",
        "\n",
        "if p_val<0.01:\n",
        "  print(\"La secuencia no es aleatoria\")\n",
        "else:\n",
        "  print(\"La secuencia es aleatoria\")"
      ],
      "metadata": {
        "colab": {
          "base_uri": "https://localhost:8080/"
        },
        "id": "uOjT34iqXRKd",
        "outputId": "6ec99023-fa8d-4a68-bc76-53586c8aeb97"
      },
      "execution_count": null,
      "outputs": [
        {
          "output_type": "stream",
          "name": "stdout",
          "text": [
            "2\n",
            "p-value =  0.7150006546880893\n",
            "La secuencia es aleatoria\n"
          ]
        }
      ]
    },
    {
      "cell_type": "markdown",
      "source": [
        "**Ejemplo ejercicio del modulo**"
      ],
      "metadata": {
        "id": "Mi4-cIcD0nJC"
      }
    },
    {
      "cell_type": "code",
      "source": [
        "#Generador congruencial lineal mixto: https://314159bits.wordpress.com/2010/09/19/generar-numeros-aleatorios-con-metodo-congruenciales/\n",
        "def mixedMethod(x, a, c, mod):\n",
        " \n",
        "    periodo = 0\n",
        "    bandera = 0\n",
        " \n",
        "    while(bandera != x):\n",
        "        if (periodo == 0):\n",
        "            bandera = x\n",
        "        x = (a * x + c) % mod\n",
        "        print(x)\n",
        "        periodo = periodo + 1\n",
        " \n",
        "    if(periodo == mod):\n",
        "        print(\"El periodo es completo: \", periodo)\n",
        "    else:\n",
        "        print(\"El periodo es incompleto:\", periodo)\n",
        " \n",
        "def main():\n",
        "    x = int(input(\"Introduce el valor de la semilla: \"))\n",
        "    a = int(input(\"Introduce el valor del multiplicador: \"))\n",
        "    c = int(input(\"Introduce el valor de la constante aditiva: \"))\n",
        "    m = int(input(\"Introduce el valor del modulo: \"))\n",
        "    mixedMethod(x,a,c,m)\n",
        " \n",
        "if __name__ == \"__main__\":\n",
        "    main()"
      ],
      "metadata": {
        "id": "E6-0BhiRO7ue",
        "colab": {
          "base_uri": "https://localhost:8080/"
        },
        "outputId": "781bffb8-99a7-497c-ab0c-8ae03a0163ba"
      },
      "execution_count": null,
      "outputs": [
        {
          "output_type": "stream",
          "name": "stdout",
          "text": [
            "Introduce el valor de la semilla: 4\n",
            "Introduce el valor del multiplicador: 5\n",
            "Introduce el valor de la constante aditiva: 5\n",
            "Introduce el valor del modulo: 6\n",
            "1\n",
            "4\n",
            "El periodo es incompleto: 2\n"
          ]
        }
      ]
    }
  ]
}