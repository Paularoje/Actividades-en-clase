{
  "nbformat": 4,
  "nbformat_minor": 0,
  "metadata": {
    "colab": {
      "name": "Test de aleatoriedad.ipynb",
      "provenance": [],
      "collapsed_sections": []
    },
    "kernelspec": {
      "name": "python3",
      "display_name": "Python 3"
    },
    "language_info": {
      "name": "python"
    }
  },
  "cells": [
    {
      "cell_type": "markdown",
      "source": [
        "**Generando una secuencia de números binarios aleatorios**"
      ],
      "metadata": {
        "id": "SzV9KP8tIpt9"
      }
    },
    {
      "cell_type": "code",
      "source": [
        "import numpy as np\n",
        "import math\n",
        "import statistics\n",
        "from scipy import special as spc"
      ],
      "metadata": {
        "id": "vTperI0dXidd"
      },
      "execution_count": null,
      "outputs": []
    },
    {
      "cell_type": "code",
      "execution_count": null,
      "metadata": {
        "colab": {
          "base_uri": "https://localhost:8080/"
        },
        "id": "f1dl5ArXU6UW",
        "outputId": "a09d40b6-7dc5-4c91-a773-cc3d620b4355"
      },
      "outputs": [
        {
          "output_type": "stream",
          "name": "stdout",
          "text": [
            "[1, 1, 1, 0, 1, 1, 0, 1, 1, 0, 1, 0, 0, 1, 0, 0, 0, 1, 0, 1, 1, 1, 0, 0, 1, 0, 1, 1, 0, 0]\n"
          ]
        }
      ],
      "source": [
        "n=30\n",
        "seq=[]\n",
        "for _ in range(n):\n",
        "  num=np.random.randint(0,2)\n",
        "  seq.append(num)\n",
        "print(seq)\n",
        "#seq = np.ones(30)\n"
      ]
    },
    {
      "cell_type": "markdown",
      "source": [
        "**Implementado la prueba de números aleatorios MONOBIT**"
      ],
      "metadata": {
        "id": "7cozkIw5I0z9"
      }
    },
    {
      "cell_type": "code",
      "source": [
        "# 2.1. Frequency (Monobit) Test\n",
        "\n",
        "count = 0\n",
        "for char in seq:\n",
        "  if char == 0:\n",
        "      count -= 1\n",
        "  else:\n",
        "      count += 1\n",
        "print(count)\n",
        "\n",
        "sobs = count / math.sqrt(len(seq))\n",
        "p_val = spc.erfc(math.fabs(sobs) / math.sqrt(2))\n",
        "\n",
        "print(\"p-value = \",p_val)\n",
        "\n",
        "\n",
        "if p_val<0.01:\n",
        "  print(\"La secuencia no es aleatoria\")\n",
        "else:\n",
        "  print(\"La secuencia es aleatoria\")"
      ],
      "metadata": {
        "colab": {
          "base_uri": "https://localhost:8080/"
        },
        "id": "uOjT34iqXRKd",
        "outputId": "6ec99023-fa8d-4a68-bc76-53586c8aeb97"
      },
      "execution_count": null,
      "outputs": [
        {
          "output_type": "stream",
          "name": "stdout",
          "text": [
            "2\n",
            "p-value =  0.7150006546880893\n",
            "La secuencia es aleatoria\n"
          ]
        }
      ]
    }
  ]
}
