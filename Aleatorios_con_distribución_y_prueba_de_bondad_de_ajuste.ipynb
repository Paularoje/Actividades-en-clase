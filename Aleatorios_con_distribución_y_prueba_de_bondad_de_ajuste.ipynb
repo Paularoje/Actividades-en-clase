{
  "nbformat": 4,
  "nbformat_minor": 0,
  "metadata": {
    "colab": {
      "name": "Distribución y prueba de bondad.ipynb",
      "provenance": [],
      "collapsed_sections": []
    },
    "kernelspec": {
      "name": "python3",
      "display_name": "Python 3"
    },
    "language_info": {
      "name": "python"
    }
  },
  "cells": [
    {
      "cell_type": "code",
      "execution_count": null,
      "metadata": {
        "colab": {
          "base_uri": "https://localhost:8080/"
        },
        "id": "21RHx_XamzNz",
        "outputId": "34e5fa9e-0aba-4d9c-c218-47cf0c1a8eda"
      },
      "outputs": [
        {
          "output_type": "stream",
          "name": "stdout",
          "text": [
            "[3 4 7 ... 1 6 6]\n"
          ]
        }
      ],
      "source": [
        "import numpy as np\n",
        "s = np.random.poisson(5, 10000)\n",
        "\n",
        "print(s)"
      ]
    },
    {
      "cell_type": "code",
      "source": [
        "import matplotlib.pyplot as plt\n",
        "count, bins, ignored = plt.hist(s, 14, density=True)\n",
        "plt.show()"
      ],
      "metadata": {
        "colab": {
          "base_uri": "https://localhost:8080/",
          "height": 265
        },
        "id": "96ReTA8KnlOt",
        "outputId": "65d20863-b65c-4675-cd05-1d15ace1688d"
      },
      "execution_count": null,
      "outputs": [
        {
          "output_type": "display_data",
          "data": {
            "text/plain": [
              "<Figure size 432x288 with 1 Axes>"
            ],
            "image/png": "[encoded data removed]"
          },
          "metadata": {
            "needs_background": "light"
          }
        }
      ]
    },
    {
      "cell_type": "code",
      "source": [
        "from numpy import random\n",
        "import matplotlib.pyplot as plt\n",
        "import seaborn as sns\n",
        "\n",
        "sns.distplot(random.binomial(n=1000, p=0.01, size=1000), hist=False, label='binomial')\n",
        "sns.distplot(random.poisson(lam=10, size=1000), hist=False, label='poisson')\n",
        "\n",
        "plt.show()"
      ],
      "metadata": {
        "colab": {
          "base_uri": "https://localhost:8080/",
          "height": 354
        },
        "id": "gdTeFIfWosIB",
        "outputId": "ca165c05-3d8c-40b5-9786-f65c78f2fd0e"
      },
      "execution_count": null,
      "outputs": [
        {
          "output_type": "stream",
          "name": "stderr",
          "text": [
            "/usr/local/lib/python3.7/dist-packages/seaborn/distributions.py:2619: FutureWarning: `distplot` is a deprecated function and will be removed in a future version. Please adapt your code to use either `displot` (a figure-level function with similar flexibility) or `kdeplot` (an axes-level function for kernel density plots).\n",
            "  warnings.warn(msg, FutureWarning)\n",
            "/usr/local/lib/python3.7/dist-packages/seaborn/distributions.py:2619: FutureWarning: `distplot` is a deprecated function and will be removed in a future version. Please adapt your code to use either `displot` (a figure-level function with similar flexibility) or `kdeplot` (an axes-level function for kernel density plots).\n",
            "  warnings.warn(msg, FutureWarning)\n"
          ]
        },
        {
          "output_type": "display_data",
          "data": {
            "text/plain": [
              "<Figure size 432x288 with 1 Axes>"
            ],
            "image/png": "[encoded data removed]"
          },
          "metadata": {
            "needs_background": "light"
          }
        }
      ]
    },
    {
      "cell_type": "code",
      "source": [
        "#Distribución Poisson\n",
        "\n",
        "import random\n",
        "U=np.random.random(100)\n",
        "X=[]\n",
        "for u in U:\n",
        "  l=random.randrange(10)\n",
        "  i=0\n",
        "  p=np.exp(-l)\n",
        "  F=p\n",
        "  band=0\n",
        "  while(band!=1):\n",
        "    if u<F:\n",
        "      X.append(i)\n",
        "      band=1\n",
        "    else:\n",
        "      p=l*p/(i+1)\n",
        "      F=F+p\n",
        "      i=i+1\n",
        "\n",
        "print(X)"
      ],
      "metadata": {
        "colab": {
          "base_uri": "https://localhost:8080/"
        },
        "id": "ScvSYWprpWxg",
        "outputId": "450353ea-36c4-45ec-82e0-767c6795f98e"
      },
      "execution_count": null,
      "outputs": [
        {
          "output_type": "stream",
          "name": "stdout",
          "text": [
            "[3, 5, 6, 10, 1, 5, 1, 7, 6, 2, 2, 8, 9, 3, 7, 0, 12, 3, 8, 5, 8, 2, 6, 0, 13, 4, 6, 2, 0, 13, 1, 0, 8, 3, 4, 0, 0, 7, 0, 7, 4, 6, 5, 1, 6, 9, 8, 2, 1, 2, 1, 3, 6, 2, 2, 2, 1, 6, 10, 2, 3, 3, 0, 2, 15, 3, 5, 9, 5, 3, 3, 7, 0, 8, 3, 2, 8, 6, 2, 0, 6, 0, 4, 1, 11, 7, 8, 9, 3, 4, 8, 9, 9, 2, 6, 0, 7, 7, 0, 3]\n"
          ]
        }
      ]
    },
    {
      "cell_type": "code",
      "source": [
        "# Distribución binomial\n",
        "\n",
        "import random\n",
        "U=np.random.random(100)\n",
        "n=len(U)\n",
        "X=[]\n",
        "p=0.4\n",
        "for u in U:\n",
        "  c=p/(1-p)\n",
        "  i=0\n",
        "  pr=(1-p)**n\n",
        "  F=pr\n",
        "  band=0\n",
        "  while(band!=1):\n",
        "    if u<F:\n",
        "      X.append(i)\n",
        "      band=1\n",
        "    else:\n",
        "      pr=(c*(n-i)/(i+1))*pr\n",
        "      F=F+pr\n",
        "      i=i+1\n",
        "\n",
        "print(X)"
      ],
      "metadata": {
        "colab": {
          "base_uri": "https://localhost:8080/"
        },
        "id": "Q2yZiEnlu4MZ",
        "outputId": "c8fbefb2-260b-4b2c-ef04-e28e4d84a363"
      },
      "execution_count": null,
      "outputs": [
        {
          "output_type": "stream",
          "name": "stdout",
          "text": [
            "[37, 40, 46, 43, 39, 49, 25, 35, 42, 36, 42, 52, 35, 40, 36, 38, 39, 45, 38, 38, 35, 45, 44, 49, 39, 42, 39, 46, 41, 34, 37, 37, 42, 34, 40, 46, 47, 38, 43, 38, 37, 35, 42, 35, 38, 35, 43, 40, 39, 40, 43, 46, 39, 37, 45, 33, 51, 33, 46, 40, 41, 28, 38, 41, 44, 39, 36, 41, 44, 40, 41, 36, 35, 36, 38, 42, 41, 45, 27, 41, 38, 37, 44, 39, 44, 42, 48, 47, 41, 33, 48, 43, 45, 35, 41, 41, 40, 42, 39, 49]\n"
          ]
        }
      ]
    },
    {
      "cell_type": "code",
      "source": [
        "import scipy.stats as stats\n",
        "import numpy as np\n",
        "\n",
        "observed_data = [8, 6, 10, 7, 8, 11, 9]\n",
        "\n",
        "expected_data = [9, 8, 11, 8, 10, 7, 6]\n",
        "\n",
        "chi_square_test_statistic, p_value = stats.chisquare(\n",
        "\n",
        "    observed_data, expected_data)\n",
        "\n",
        "\n",
        "print('chi_square_test_statistic is : ' +\n",
        "\n",
        "      str(chi_square_test_statistic))\n",
        "\n",
        "print('p_value : ' + str(p_value))\n",
        "\n",
        "\n",
        "print(stats.chi2.ppf(1-0.05, df=6))"
      ],
      "metadata": {
        "colab": {
          "base_uri": "https://localhost:8080/"
        },
        "id": "OS-gK11o9dJM",
        "outputId": "99600a23-4012-466e-d854-7391ee92a53d"
      },
      "execution_count": null,
      "outputs": [
        {
          "output_type": "stream",
          "name": "stdout",
          "text": [
            "chi_square_test_statistic is : 5.0127344877344875\n",
            "p_value : 0.542180861413329\n",
            "12.591587243743977\n"
          ]
        }
      ]
    },
    {
      "cell_type": "code",
      "source": [
        "import scipy.stats as stats\n",
        "\n",
        "import numpy as np\n",
        "observed_data = [8, 6, 10, 7, 8, 11, 9]\n",
        "\n",
        "expected_data = [9, 8, 11, 8, 10, 7, 6]\n",
        "\n",
        "chi_square_test_statistic1 = 0\n",
        "\n",
        "for i in range(len(observed_data)):\n",
        "\n",
        "    chi_square_test_statistic1 = chi_square_test_statistic1 + (np.square(observed_data[i]-expected_data[i]))/expected_data[i]\n",
        "\n",
        "\n",
        "print('chi square value determined by formula : ' +\n",
        "\n",
        "      str(chi_square_test_statistic1))\n",
        "\n",
        "print(stats.chi2.ppf(1-0.05, df=6))\n",
        "\n"
      ],
      "metadata": {
        "colab": {
          "base_uri": "https://localhost:8080/"
        },
        "id": "utPlAH8T-eqB",
        "outputId": "1d3a2f48-385d-4456-f8ad-c1abbb702386"
      },
      "execution_count": null,
      "outputs": [
        {
          "output_type": "stream",
          "name": "stdout",
          "text": [
            "chi square value determined by formula : 5.0127344877344875\n",
            "12.591587243743977\n"
          ]
        }
      ]
    }
  ]
}