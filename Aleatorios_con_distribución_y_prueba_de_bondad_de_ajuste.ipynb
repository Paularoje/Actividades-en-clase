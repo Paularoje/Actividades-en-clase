{
  "nbformat": 4,
  "nbformat_minor": 0,
  "metadata": {
    "colab": {
      "name": "Distribución y prueba de bondad.ipynb",
      "provenance": [],
      "collapsed_sections": []
    },
    "kernelspec": {
      "name": "python3",
      "display_name": "Python 3"
    },
    "language_info": {
      "name": "python"
    }
  },
  "cells": [
    {
      "cell_type": "markdown",
      "source": [
        "**Generador de números aleatorios con la distribución de Poisson y Binomial (utilizando los métodos de numpy)**"
      ],
      "metadata": {
        "id": "Q4wQhGe_JrBW"
      }
    },
    {
      "cell_type": "code",
      "source": [
        "from numpy import random\n",
        "\n",
        "#Generando los aleatorios\n",
        "\n",
        "X1=random.binomial(n=1000, p=0.01, size=1000)\n",
        "\n",
        "X2=random.poisson(lam=10, size=1000)\n",
        "\n",
        "print(\"Distribución Binomial: \\n\", X1)\n",
        "print(\"Distribución de Poisson: \\n\", X2)"
      ],
      "metadata": {
        "colab": {
          "base_uri": "https://localhost:8080/"
        },
        "id": "gdTeFIfWosIB",
        "outputId": "a32cc8cd-b24a-4674-d225-7410ae0d2996"
      },
      "execution_count": null,
      "outputs": [
        {
          "output_type": "stream",
          "name": "stdout",
          "text": [
            "Distribución Binomial: \n",
            " [ 9  7  5 12  7 10 11 10  7  9 11  9  7 12 11  9  8  4 10 10  9  8  8 14\n",
            " 13 10  8  9 11  7 10  9  9 14 17 10 10 11  7  8 10 13 15  6  9 13  8 11\n",
            "  9 14 11 14 11 12  7 10  8  9 12  8 12 17 10 10  7 12  9 14 13 12 12 12\n",
            " 11 11 12 11 10 11  5  7 10 11 11 12  9 15 14  6  7 11  9  8  6 10 12 10\n",
            " 12 11  7 10 12  5 13  6 12 10  7  4  8 10  6  9  9  6 16 13 10 14 17 10\n",
            "  9 15  8 11  8 12 12 12  9  7 10 13 13  6  8 15 16  9 10 14  7 11 13  9\n",
            " 13 12 11  9 11  8 11 16  6 15  9  2  3  6 13  4  7 11 13  9 14  5 13 10\n",
            " 13 17  8 12 14 15  7 14  8 10 11  9  9 11 11  5  9 13 10 12 13 14  8 11\n",
            " 12  7  7 13  6  9  7 14 10  6  9  7 11 13 11 10  6 11 13  9  7 12 12 12\n",
            " 13  9  8  8  9  7  8  6  8 11  8 13 12 10 12  6  9  3  5 12 11 13  9 13\n",
            "  5  9 13  6 10  9 10  5 11  8  5  7 12 13 12  9  5  6 10 12 14  9 17  8\n",
            " 17  5 13 11 13 14  9  9 10  9 17 16  9  9 17  8 18  6  8  5  5 10  6 11\n",
            " 16  7  7 13  2  8  9 10 15 14 12  9  8  8 18  8 14  4 12 10 11 11 12 12\n",
            " 11  9 15 11 11 13  9  9  6 10 12 13 14  8 13  9  9  8 10  9 13 10 11 14\n",
            " 18  8  9 11  8  4 12  9  7 11 13  7  5  5  6 14  8 17 13 13 10 14  9 11\n",
            " 14  7  5  7  8  6  9 13 13  9  6 13 14  7 11  4 13 10  9  9  9  8 12 14\n",
            " 14 12 14 13 13  8 12  8 13  7  8  7  7  9  6  5 14 13 17 11 15 14  7  7\n",
            " 10 14  8 10  7  8  8  6  9  9  8 11  9 13 10 11 10 15 10 11  7 11 10  4\n",
            "  9  5  4  6 11  5 11  9 10  8 12 12 11 10 18  9  9  7  9  8 13  7 14  9\n",
            "  7 10 14 11  6  8 12 11  6 10 11  7  8 14 10  9 10 13 13  9  9 13 11 13\n",
            " 11 16 10  2  8 10  8  9 11 13  9  8  8  6  9 15  6  8 15  7 12  7  8  6\n",
            " 17  7 10 10 10  9  4 12  7  9 10 14  6 11  8 14 11 11  9 11 13  7 11  8\n",
            " 15 10  9 12 13 16 11  6  9 11 11  8  9 11 10 11  9 16  9  8  9  8 15  5\n",
            " 10  7 17 11 10 12  9  5  3 10  7  2  9 17 15  5  9  7 11 10 10 12  9  9\n",
            "  7 10  6 12 10  7 12  8 10  9 12 12  9 10  7 11  6  8  6 13 12 11  6 12\n",
            " 13  8  3 11  9 14 16 11  9  8  9 15 11  6  4  6  9  9 12  6  8 12 10 13\n",
            " 16  9 12 10  5 11  6 15  9 12 10  9  8  8 12 10  8 14  6  6  6 11 10 14\n",
            "  7 11 12  8  9  8 15 17 13  4 13 11 14  5  7  9  5 17  8  9  9  7  9  8\n",
            " 12  9  9 16  8 11  9  9 10  9  9  7  6 20 11 13  8  8 14  4 10 10  9 11\n",
            " 10  9  5  4 12 10  6 15 11 13 10 12  4  4  4 11 14 10  6 11 10  8  8 15\n",
            "  9 16  8 14 12  4  7 10 12 11  7 11 15 15  7 16  9 10 10  7 18 13  8 13\n",
            "  8 13  8  5  8 11 11 16  8 14 16  6 12 18 12  9  6 11  9  7  5 13 13 14\n",
            "  9  7 10 12 15  6  9 11 15 13  9 12  9 18  6 11 16  9 16 10 13  9 13 12\n",
            "  6  4  9 11  4  6  7  9  7  4 11  8 11 11 13 14 12 12  6 10 11 12  8  8\n",
            " 10 11 12  9 12 15  7  8  8  9 15 11  6 12  9  9 10  8  6  9  8  9 10 12\n",
            " 13  7 13  9 10 12  7 10  8 13  8  7 10 11 10  8  7 11 11  9 13  4 11  9\n",
            "  7  4 14  8  6 13  9 13  9  4 13  8  9  6 11 14  9  9  6  8  9 16  8  8\n",
            "  9 14  7 10 10 12  7 12 12 13 10  8 12  9 13 10 11  8 16 11  6 18 13 12\n",
            "  9  8 12 14 15  8 11 11  9  9 14 11  6 10  9  7  8 16 10 10 10 10  6 12\n",
            " 17 10  9  6 12 11  5  8 14 16 12 12  3 17 13 11  7 11  9 12 10  9 11  9\n",
            " 11  7 12  9  6  5  9  7  8 11 15 11  5 10 14  9  9 10 10 14 10 13  9  9\n",
            " 17  8 10 13 15 12 15  7  8 12 11  9  7 13  4  7]\n",
            "Distribución de Poisson: \n",
            " [ 8 13  5  5 12 15  7 11 13 13 11 10  8  4  9  8 11  7 11  8 15 15 13  9\n",
            " 11  8  9 14 11 11 11  9  7 15 13 15  8 13 14 17 10 18 10 12 12  9  9  8\n",
            " 11  8  5  8 10 10  8 12 15  8  8 15  8  8 10 10  9 10  7 11  8 10 16 12\n",
            "  6 10  8  8  7 12  7 10 12  3  5 10  8 12  8  7 13 14  8 10 15  9  7 16\n",
            " 12  7  8 10 15 11  7  9  8 13  6  7 16  5 13  7 15 13 12  5 13 12 10 10\n",
            " 12  5 10 18  7 11  9 11  4  8  8 14  6 16 17  7 11 11  5  6 11  5 11 15\n",
            " 11  4 11  9 10  9 14  6  7  8  3 12  9 13 13 12  8  9 10 14 13  8 11  6\n",
            " 13  6 10  7 13  8 12  9 10  9 13  9  9 13  8  8 10  6  6  6  8  9 15  7\n",
            " 13 15 13 11 14  4 10 16 12  9 12  8 12 11  7 20 11 14  9 16 16 11 14 13\n",
            "  9 10 17 12 14  9 12 14 13 17 13 15 15  9  5  8 13 13  7  6  7 18 13 10\n",
            "  8 10  7  8 11  9  9 12 10 13  5 13 14 10 12  1  9 13 10 10  7  9  7 12\n",
            " 10  9  8  5  4 11  8  7  9  4 14 11 14 12  8  8 13 13  9 13 15 11  9 13\n",
            "  5 11  6  7  8  7 15 17 10  8 10 13 13 13 13 15 12 11 10 11  9 11 12  8\n",
            "  8  8  5 10 13  8  7  9  8 11  9 13  7  7 16  8  9 13  9  5  8  6 13 13\n",
            " 13  8  9 16 14 13 14  4 14 12 10 10  9  9 13  7 12  8 17  7 11 11 14 15\n",
            " 11 11  8 11  9 15  6  8  6 12 10 11 12  7 10  9 10  6  9  9 13 11 11  7\n",
            " 12  8 11 14  8 14 10  4 12 17 10 15  9  7 10  7  9 12 11 17  9 14  8  7\n",
            " 14  6 13  8 15 10  9  4 16  8 12  5  8  6 13  9 15 10 11 10  9  5 10 13\n",
            "  4  7 10 18 10  9 13  8  5 10 12 11  7 16 14  8  4 10  8 15  5 13  8  3\n",
            "  5 11 10  9 12 15  8 11  9  9  8  7 10 12 15  7 12 12 15 11  9  7 13  9\n",
            " 13 14  9  8  7  7 10 11 18 11  6 12 10 13 13 10  9 12  8 10 11 14 15  8\n",
            " 10 10 16  9  9 10 15 18  9  9 15 12  6  8  3 12 11 12 11 10  6  9 13  7\n",
            "  9  8  7 13 12  6 11 11  8 13 13 14  8 18  9  9 10 13  6  3 12  9 13 10\n",
            " 11  9  9 10  7 11 10  9  5 11  9  9 11 11  3  2 10 12  8  7  9  7 14  7\n",
            " 14 13  9  7 12 17 11  7  7 15 10  9 12  7 13 16  7  8 12  9 14  9  6  9\n",
            "  5  9  8 11 10 12  5  8 10  9  7  8 10 12 14  8  5 10 10 12  9 10  9 10\n",
            "  9 11 12 14 14  7 12 14 10  8  7 13  5 15 15  7 13  7  7  4  6  8  5 16\n",
            " 16  7 12 14  7 10 11  9  7  7 10  8 10 11  2 14 11  9  7 11 11  8  8 11\n",
            " 13 13  9  8  7 14  6  6  7 12  9 11  6 19 10 10  5  9  7  5  5 10 14 11\n",
            "  5  7  9  9 10 13 12 12 11  9  9 15 14  8  8 13 10  7 19 10  9 17 14 12\n",
            " 11 13  4 15 10  7  5 12 11 11 10 13 12  9  2  8 11 11 12  7 11  8 11 10\n",
            "  5  7  9 12 13  9 11 11 13  7  8 15 12  8  8  7  7 16 13 10  5 12 12 11\n",
            " 10 12  8  6 11  5 11  8  9  8 11 10 13 12 11 12 10  9 13 15  8  7 10  5\n",
            "  5 16  9  8 12 10 10 12  9 12  9  6 10  5  7 10 10 11 12 15  6  8 12 11\n",
            " 12  2  9  7  9  7 13 10  9 10 14 12 12 15 13 10  9  7  7  6 10  8 13 12\n",
            " 10 10 11  5  7  9 10 24 10 12  6 17  7 14  8  9 14  7  9  8 11  9 16 10\n",
            " 12  9  8  5  7 13  6 12  9 15 13 12  6 10 10  9  9 11 13  9  8  8 10 11\n",
            " 11 11  5 14  9 10  9 13  9 12  9 22  5 11  6  9  8  8 14 12  6  5 12 10\n",
            " 12  5  9 12  5  6  6 16 12  9  7  8  7 13  7 12 10 10  4  7  9 11  6 15\n",
            " 10  5 12  8  8 10 10  9 12 10 13 12 13 10 10 12 10 12 11  8  6  7  6  8\n",
            "  7 11 16 13  1  8 12 15 11 12 14 14  9  9 18 16  9 11 12  6  6  7 13 16\n",
            " 11  7  6  3 14  9  8 14  6 11 10  6 10 14 14 10]\n"
          ]
        }
      ]
    },
    {
      "cell_type": "code",
      "source": [
        "#Graficando las distribuciones de números aleatorios generados con los métodos de numpy\n",
        "\n",
        "import matplotlib.pyplot as plt\n",
        "import seaborn as sns\n",
        "\n",
        "fig = plt.figure(figsize=(6,5))\n",
        "\n",
        "sns.distplot(X1, hist=False)\n",
        "sns.distplot(X2, hist=False)\n",
        "\n",
        "fig.legend(labels=['binomial','poisson'])\n",
        "plt.show()"
      ],
      "metadata": {
        "colab": {
          "base_uri": "https://localhost:8080/",
          "height": 447
        },
        "id": "Pr7U6xYXK84K",
        "outputId": "a263906b-93b6-4cf8-a299-4b9b57923545"
      },
      "execution_count": null,
      "outputs": [
        {
          "output_type": "stream",
          "name": "stderr",
          "text": [
            "/usr/local/lib/python3.7/dist-packages/seaborn/distributions.py:2619: FutureWarning: `distplot` is a deprecated function and will be removed in a future version. Please adapt your code to use either `displot` (a figure-level function with similar flexibility) or `kdeplot` (an axes-level function for kernel density plots).\n",
            "  warnings.warn(msg, FutureWarning)\n",
            "/usr/local/lib/python3.7/dist-packages/seaborn/distributions.py:2619: FutureWarning: `distplot` is a deprecated function and will be removed in a future version. Please adapt your code to use either `displot` (a figure-level function with similar flexibility) or `kdeplot` (an axes-level function for kernel density plots).\n",
            "  warnings.warn(msg, FutureWarning)\n"
          ]
        },
        {
          "output_type": "display_data",
          "data": {
            "text/plain": [
              "<Figure size 432x360 with 1 Axes>"
            ],
            "image/png": "[encoded data removed]"
          },
          "metadata": {
            "needs_background": "light"
          }
        }
      ]
    },
    {
      "cell_type": "markdown",
      "source": [
        "**Generador de números aleatorios con la distribución de Poisson y Binomial (programando su algortimo)**"
      ],
      "metadata": {
        "id": "BeWEomJ0NkOR"
      }
    },
    {
      "cell_type": "code",
      "source": [
        "#Distribución Poisson\n",
        "import numpy as np\n",
        "import random\n",
        "\n",
        "U=np.random.random(100)\n",
        "Xp=[]\n",
        "for u in U:\n",
        "  l=random.randrange(10)\n",
        "  i=0\n",
        "  p=np.exp(-l)\n",
        "  F=p\n",
        "  band=0\n",
        "  while(band!=1):\n",
        "    if u<F:\n",
        "      Xp.append(i)\n",
        "      band=1\n",
        "    else:\n",
        "      p=l*p/(i+1)\n",
        "      F=F+p\n",
        "      i=i+1\n",
        "\n",
        "print(Xp)"
      ],
      "metadata": {
        "colab": {
          "base_uri": "https://localhost:8080/"
        },
        "id": "ScvSYWprpWxg",
        "outputId": "f4e4de32-7fdb-4c87-8b95-2e30a617612a"
      },
      "execution_count": null,
      "outputs": [
        {
          "output_type": "stream",
          "name": "stdout",
          "text": [
            "[8, 9, 2, 0, 2, 14, 6, 8, 7, 3, 14, 4, 3, 4, 1, 9, 1, 4, 3, 1, 11, 13, 4, 4, 9, 9, 9, 3, 14, 5, 10, 11, 8, 1, 4, 3, 4, 6, 8, 0, 9, 8, 11, 0, 10, 8, 4, 5, 5, 11, 7, 1, 0, 9, 1, 0, 10, 3, 12, 3, 0, 1, 2, 11, 3, 0, 5, 2, 3, 12, 2, 2, 0, 3, 9, 9, 7, 10, 2, 0, 1, 8, 3, 1, 6, 4, 4, 2, 3, 1, 1, 4, 0, 2, 6, 0, 3, 7, 5, 6]\n"
          ]
        }
      ]
    },
    {
      "cell_type": "code",
      "source": [
        "# Distribución binomial\n",
        "\n",
        "U=np.random.random(100)\n",
        "n=len(U)\n",
        "Xb=[]\n",
        "p=0.4\n",
        "for u in U:\n",
        "  c=p/(1-p)\n",
        "  i=0\n",
        "  pr=(1-p)**n\n",
        "  F=pr\n",
        "  band=0\n",
        "  while(band!=1):\n",
        "    if u<F:\n",
        "      Xb.append(i)\n",
        "      band=1\n",
        "    else:\n",
        "      pr=(c*(n-i)/(i+1))*pr\n",
        "      F=F+pr\n",
        "      i=i+1\n",
        "\n",
        "print(Xb)"
      ],
      "metadata": {
        "colab": {
          "base_uri": "https://localhost:8080/"
        },
        "id": "Q2yZiEnlu4MZ",
        "outputId": "2be9e2cf-316c-460a-ac9b-60588bdf6496"
      },
      "execution_count": null,
      "outputs": [
        {
          "output_type": "stream",
          "name": "stdout",
          "text": [
            "[44, 38, 44, 37, 36, 39, 42, 37, 43, 33, 34, 39, 43, 46, 47, 44, 43, 33, 47, 40, 37, 48, 36, 45, 42, 46, 40, 43, 39, 40, 30, 43, 43, 29, 40, 31, 42, 35, 44, 44, 40, 43, 38, 39, 36, 36, 44, 39, 38, 41, 40, 43, 37, 42, 31, 35, 31, 42, 41, 37, 34, 43, 35, 41, 42, 39, 47, 42, 41, 35, 37, 47, 32, 40, 39, 34, 40, 39, 45, 46, 44, 44, 43, 36, 41, 49, 32, 34, 40, 35, 45, 44, 35, 29, 34, 37, 34, 39, 42, 33]\n"
          ]
        }
      ]
    },
    {
      "cell_type": "code",
      "source": [
        "#Graficando las distribuciones de números aleatorios generados con los algoritmos hechos\n",
        "\n",
        "import matplotlib.pyplot as plt\n",
        "import seaborn as sns\n",
        "\n",
        "fig = plt.figure(figsize=(8,6))\n",
        "\n",
        "sns.distplot(Xb, hist=False)\n",
        "sns.distplot(Xp, hist=False)\n",
        "\n",
        "fig.legend(labels=['binomial','poisson'])\n",
        "plt.show()"
      ],
      "metadata": {
        "colab": {
          "base_uri": "https://localhost:8080/",
          "height": 510
        },
        "id": "DVJO9mqaOd-_",
        "outputId": "a92b7aa1-30a0-49d0-f86b-331ec65bfe17"
      },
      "execution_count": 32,
      "outputs": [
        {
          "output_type": "stream",
          "name": "stderr",
          "text": [
            "/usr/local/lib/python3.7/dist-packages/seaborn/distributions.py:2619: FutureWarning: `distplot` is a deprecated function and will be removed in a future version. Please adapt your code to use either `displot` (a figure-level function with similar flexibility) or `kdeplot` (an axes-level function for kernel density plots).\n",
            "  warnings.warn(msg, FutureWarning)\n",
            "/usr/local/lib/python3.7/dist-packages/seaborn/distributions.py:2619: FutureWarning: `distplot` is a deprecated function and will be removed in a future version. Please adapt your code to use either `displot` (a figure-level function with similar flexibility) or `kdeplot` (an axes-level function for kernel density plots).\n",
            "  warnings.warn(msg, FutureWarning)\n"
          ]
        },
        {
          "output_type": "display_data",
          "data": {
            "text/plain": [
              "<Figure size 576x432 with 1 Axes>"
            ],
            "image/png": "[encoded data removed]"
          },
          "metadata": {
            "needs_background": "light"
          }
        }
      ]
    },
    {
      "cell_type": "markdown",
      "source": [
        "**Prueba de bondad de ajuste: Utilizando el método de Scipy para hallar el Ji-cuadrado**"
      ],
      "metadata": {
        "id": "F_9zvQszPskY"
      }
    },
    {
      "cell_type": "code",
      "source": [
        "import scipy.stats as stats\n",
        "import numpy as np\n",
        "\n",
        "observed_data = [8, 6, 10, 7, 8, 11, 9]\n",
        "\n",
        "expected_data = [9, 8, 11, 8, 10, 7, 6]\n",
        "\n",
        "chi_square_test_statistic, p_value = stats.chisquare(\n",
        "\n",
        "    observed_data, expected_data)\n",
        "\n",
        "\n",
        "print('chi_square_test_statistic is : ' +\n",
        "\n",
        "      str(chi_square_test_statistic))\n",
        "\n",
        "print('p_value : ' + str(p_value))\n",
        "\n",
        "\n",
        "print(stats.chi2.ppf(1-0.05, df=6))"
      ],
      "metadata": {
        "colab": {
          "base_uri": "https://localhost:8080/"
        },
        "id": "OS-gK11o9dJM",
        "outputId": "99600a23-4012-466e-d854-7391ee92a53d"
      },
      "execution_count": null,
      "outputs": [
        {
          "output_type": "stream",
          "name": "stdout",
          "text": [
            "chi_square_test_statistic is : 5.0127344877344875\n",
            "p_value : 0.542180861413329\n",
            "12.591587243743977\n"
          ]
        }
      ]
    },
    {
      "cell_type": "markdown",
      "source": [
        "**Prueba de bondad de ajuste: Utilizando la fómula de Ji-cuadrado para su cálculo**"
      ],
      "metadata": {
        "id": "-hu7sPFMQHC7"
      }
    },
    {
      "cell_type": "code",
      "source": [
        "import scipy.stats as stats\n",
        "\n",
        "import numpy as np\n",
        "observed_data = [8, 6, 10, 7, 8, 11, 9]\n",
        "\n",
        "expected_data = [9, 8, 11, 8, 10, 7, 6]\n",
        "\n",
        "chi_square_test_statistic1 = 0\n",
        "\n",
        "for i in range(len(observed_data)):\n",
        "\n",
        "    chi_square_test_statistic1 = chi_square_test_statistic1 + (np.square(observed_data[i]-expected_data[i]))/expected_data[i]\n",
        "\n",
        "\n",
        "print('chi square value determined by formula : ' +\n",
        "\n",
        "      str(chi_square_test_statistic1))\n",
        "\n",
        "print(stats.chi2.ppf(1-0.05, df=6))\n",
        "\n"
      ],
      "metadata": {
        "colab": {
          "base_uri": "https://localhost:8080/"
        },
        "id": "utPlAH8T-eqB",
        "outputId": "1d3a2f48-385d-4456-f8ad-c1abbb702386"
      },
      "execution_count": null,
      "outputs": [
        {
          "output_type": "stream",
          "name": "stdout",
          "text": [
            "chi square value determined by formula : 5.0127344877344875\n",
            "12.591587243743977\n"
          ]
        }
      ]
    }
  ]
}