{
  "nbformat": 4,
  "nbformat_minor": 0,
  "metadata": {
    "colab": {
      "name": "Método_binomial.ipynb",
      "provenance": []
    },
    "kernelspec": {
      "name": "python3",
      "display_name": "Python 3"
    },
    "language_info": {
      "name": "python"
    }
  },
  "cells": [
    {
      "cell_type": "code",
      "source": [
        "import random as rnd\n",
        "import math as m\n",
        "import numpy as np\n",
        "import statistics as stat\n",
        "import scipy.stats as stat2"
      ],
      "metadata": {
        "id": "3JdqakPOsaSA"
      },
      "execution_count": null,
      "outputs": []
    },
    {
      "cell_type": "markdown",
      "source": [
        "#Generación de aleatorios con el método binomial"
      ],
      "metadata": {
        "id": "eStU3fT1sbRb"
      }
    },
    {
      "cell_type": "code",
      "execution_count": null,
      "metadata": {
        "colab": {
          "base_uri": "https://localhost:8080/"
        },
        "id": "DGg4CZi2sXKc",
        "outputId": "1d56c9e4-7ff4-49c2-d272-02d4dc3b549c"
      },
      "outputs": [
        {
          "output_type": "stream",
          "name": "stdout",
          "text": [
            "[25, 25, 22, 33, 24, 29, 31, 24, 24, 24, 23, 25, 33, 28, 27, 28, 29, 24, 24, 24, 28, 21, 21, 26, 24, 31, 22, 26, 22, 20, 25, 28, 23, 22, 31, 23, 29, 30, 23, 23, 24, 26, 24, 27, 27, 31, 28, 22, 21, 22]\n"
          ]
        }
      ],
      "source": [
        "U = np.random.random(50) # Numero entero aleatorio (0 - 50)\n",
        "n = len(U) # n = longitud de U\n",
        "p = 0.5 # Probabilidad de exitos \n",
        "\n",
        "Xb = [] # Lista que guarda numeros aleatorios Binomial\n",
        "\n",
        "for u in U:\n",
        "  c = p/( 1-p )\n",
        "  i = 0\n",
        "  pr = ( 1-p )**n\n",
        "  F = pr\n",
        "  band = 0\n",
        "  while ( band == 0 ):\n",
        "    if u < F:\n",
        "      Xb.append(i)\n",
        "      band = 1\n",
        "    else:\n",
        "      pr = ( c*(n - i)/( i + 1 ) )*pr\n",
        "      F = F + pr\n",
        "      i = i + 1\n",
        "\n",
        "print( Xb )"
      ]
    },
    {
      "cell_type": "markdown",
      "source": [
        "#Prueba de Pearson"
      ],
      "metadata": {
        "id": "lkARGd3mssIQ"
      }
    },
    {
      "cell_type": "code",
      "source": [
        "from collections import OrderedDict\n",
        "recorridos=[]\n",
        "for x in Xb:\n",
        "  if x not in recorridos:\n",
        "    recorridos.append(x)\n",
        "\n",
        "recorridos=np.sort(recorridos)\n",
        "categorias=len(recorridos) # Numero de categorias\n",
        "print(recorridos)\n",
        "\n",
        "Xb=np.sort(Xb)\n",
        "\n",
        "unique, counts = np.unique(Xb, return_counts=True)\n",
        "dicc= dict(zip(unique, counts))\n",
        "print(dicc)\n",
        "  \n",
        "for o in range(np.min(recorridos),np.max(recorridos)+1):\n",
        "  if o not in recorridos:\n",
        "    dicc[o]=0\n",
        "\n",
        "\n",
        "sorted_keys = sorted(dicc.keys()) # Sort the values\n",
        "observados=[]\n",
        "\n",
        "for i in sorted_keys:\n",
        "    observados.append(dicc.get(i))\n",
        "\n",
        "print(observados)\n",
        "\n",
        "\n",
        "probs = stat2.binom.pmf(sorted_keys,n, p) # Funcion de probabilidad de masa (pmf)\n",
        "print( 'Probs', probs )\n",
        "\n",
        "print( 'Longitud de probs:', len(probs) )\n",
        "\n",
        "PROBS = np.array(probs)\n",
        "esperados = PROBS * len( Xb )\n",
        "print( 'Esperados: ', esperados )\n",
        "print( 'Sumatioria esperados: ', sum(esperados) )\n",
        "print( 'Sumatoria observados: ', sum(observados) )\n",
        "\n",
        "est_chi = 0\n",
        "for k in range( categorias ):\n",
        "    est_chi = est_chi + ((observados[k] - esperados[k])**2)/esperados[k]\n",
        "\n",
        "print('est_chi: ', est_chi)\n",
        "print(stat2.chi2.cdf(est_chi, categorias - 2))"
      ],
      "metadata": {
        "colab": {
          "base_uri": "https://localhost:8080/"
        },
        "id": "ybGdPM67srH1",
        "outputId": "a7f59342-b2c2-438e-a2e3-cc36126a9894"
      },
      "execution_count": null,
      "outputs": [
        {
          "output_type": "stream",
          "name": "stdout",
          "text": [
            "[20 21 22 23 24 25 26 27 28 29 30 31 33]\n",
            "{20: 1, 21: 3, 22: 6, 23: 5, 24: 10, 25: 4, 26: 3, 27: 3, 28: 5, 29: 3, 30: 1, 31: 4, 33: 2}\n",
            "[1, 3, 6, 5, 10, 4, 3, 3, 5, 3, 1, 4, 0, 2]\n",
            "Probs [0.04185915 0.05979878 0.07882567 0.09596169 0.1079569  0.11227517\n",
            " 0.1079569  0.09596169 0.07882567 0.05979878 0.04185915 0.0270059\n",
            " 0.01603475 0.00874623]\n",
            "Longitud de probs: 14\n",
            "Esperados:  [2.09295746 2.98993923 3.94128353 4.7980843  5.39784484 5.61375863\n",
            " 5.39784484 4.7980843  3.94128353 2.98993923 2.09295746 1.35029514\n",
            " 0.80173774 0.43731149]\n",
            "Sumatioria esperados:  46.64332174019832\n",
            "Sumatoria observados:  50\n",
            "est_chi:  14.637784130761986\n",
            "0.8003129920329904\n"
          ]
        }
      ]
    },
    {
      "cell_type": "markdown",
      "source": [
        "Como el valor resultante de la prueba chi-cuadrado dio menor a 0.95 se acepta la hipotesis nula"
      ],
      "metadata": {
        "id": "M_EU_op2GPlW"
      }
    }
  ]
}