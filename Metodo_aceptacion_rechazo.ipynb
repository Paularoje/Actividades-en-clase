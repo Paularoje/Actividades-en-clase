{
  "nbformat": 4,
  "nbformat_minor": 0,
  "metadata": {
    "colab": {
      "name": "Metodo_aceptacion_rechazo.ipynb",
      "provenance": [],
      "collapsed_sections": []
    },
    "kernelspec": {
      "name": "python3",
      "display_name": "Python 3"
    },
    "language_info": {
      "name": "python"
    }
  },
  "cells": [
    {
      "cell_type": "code",
      "execution_count": null,
      "metadata": {
        "id": "y4qHhCGnxpD9"
      },
      "outputs": [],
      "source": [
        "import time as tm\n",
        "import random as rnd\n",
        "import math as math\n",
        "import numpy as np\n",
        "import matplotlib.pyplot as plt\n",
        "import scipy.stats as stats\n",
        "from scipy.stats import poisson\n",
        "import seaborn as sns\n",
        "import pandas as pd\n",
        "import random"
      ]
    },
    {
      "cell_type": "markdown",
      "source": [
        "# Metódo de aceptación y rechazo"
      ],
      "metadata": {
        "id": "w_LmHgOfyico"
      }
    },
    {
      "cell_type": "code",
      "source": [
        "#######Trabajando el metodo aceptacion-rechazo\n",
        "expo = []\n",
        "normal = []\n",
        "F = []\n",
        "Z2 = []\n",
        "n = int(input(\"Ingrese la cantidad de valores desea: \"))\n",
        "for i in range(n):\n",
        "  aceptacion = False\n",
        "  while (aceptacion==False):\n",
        "    #g(x) ->  funcion de densidad exponencial\n",
        "    #generando y de g(x)\n",
        "    L = random.uniform(0,1) #aleatorios (x) para evaluar en g(x)\n",
        "    lam = 1\n",
        "    x = ( (-(1/lam)) * math.log(L, math.e))\n",
        "    expo.append(x)\n",
        "    \n",
        "    #f(x) ->  funcion de densidad normal (La da el profesor)\n",
        "    f = ( ( 2 / (math.sqrt(2*math.pi)) ) * pow( math.e, ( (pow(-x,2) / 2 ) ) ) )\n",
        "    F.append(f)\n",
        "\n",
        "    #g(x) -> función de densidad exponencial (Nosotros la generamos)\n",
        "    g = pow ( (math.e), -x)\n",
        "\n",
        "    #c=max( f(x) / g(x) ) -> se maximiza la división, encontrando que con x=1 se logra esto\n",
        "    c = pow( ((2*math.e) /math.pi) , 1/2 )\n",
        "\n",
        "    #Condición que cumplir para generar número aleatorio    \n",
        "    U = random.uniform(0,1) \n",
        "    if U <= (f/(c*g)):\n",
        "      normal.append(x)\n",
        "      aceptacion = True\n",
        "\n",
        "print(normal)"
      ],
      "metadata": {
        "colab": {
          "base_uri": "https://localhost:8080/"
        },
        "id": "XLNYYS8ANeCM",
        "outputId": "4595243a-d520-40d0-fa9e-de258bcb8029"
      },
      "execution_count": null,
      "outputs": [
        {
          "output_type": "stream",
          "name": "stdout",
          "text": [
            "Ingrese la cantidad de valores desea: 30\n",
            "[0.17223417902951935, 1.5168588181905742, 0.5761694652016495, 1.0833849560208606, 0.37410219892020685, 0.516943430290123, 1.7963903636817873, 2.0867978643629264, 0.5523731837105568, 0.02646800839564678, 0.7974582109552659, 0.06158565735947313, 1.1644395340899163, 1.2405013574206898, 1.3840472798739762, 1.9677026595895708, 0.34592185056194846, 1.1049960180035518, 0.44046201210115105, 0.9060870066619926, 0.15788710851616125, 1.1454075443423126, 1.5665835005866837, 0.4736949543862788, 0.3417419927146257, 1.8021253128482226, 1.5650081166389171, 0.44024543289470985, 0.5427906510442444, 0.8275494402895326]\n"
          ]
        }
      ]
    },
    {
      "cell_type": "markdown",
      "source": [
        "# Prueba de Pearson"
      ],
      "metadata": {
        "id": "T8W9t6r80lQc"
      }
    },
    {
      "cell_type": "code",
      "source": [
        "#prueba de Pearson con distribución normal\n",
        "\n",
        "normal=np.sort(normal)\n",
        "print(normal)\n",
        "\n",
        "categorias = round(1 + (math.log(len(normal)))/(math.log(2))) # Numero de categorias\n",
        "maximo = max(normal) # Numero maximo de la lista generada\n",
        "print( 'Categorias: {}', categorias )\n",
        "\n",
        "observados, bins = np.histogram( normal, categorias )\n",
        "print( 'Observados: ', observados )\n",
        "print( 'Bins: ', bins )\n",
        "\n",
        "#Esta distribución corresponde a la función de densidad f(x)\n",
        "probs = stats.norm.cdf(bins) # Funcion de distribucion (cdf)\n",
        "\n",
        "print( 'Probs', probs )\n",
        "\n",
        "P = []\n",
        "for k in range( 1, categorias+1 ):\n",
        "    cc = probs[k] - probs[k-1]\n",
        "    P.append( cc )\n",
        "\n",
        "print( 'P:', P )\n",
        "print( 'Longitud P:', len(P) )\n",
        "\n",
        "PROBS = np.array(P)\n",
        "esperados = PROBS * len( normal )\n",
        "print( 'Esperados: ', esperados )\n",
        "print( 'Sumatioria esperados: ', sum(esperados) )\n",
        "print( 'Sumatoria observados: ', sum(observados) )\n",
        "\n",
        "est_chi = 0\n",
        "for k in range( categorias ):\n",
        "    est_chi = est_chi + ((observados[k] - esperados[k])**2)/esperados[k]\n",
        "print('est_chi: ', est_chi)\n",
        "\n",
        "result = stats.chisquare(observados, esperados, categorias - 2, axis = None )\n",
        "print('Result.statistic: ', result.statistic)\n",
        "print(stats.chi2.cdf(est_chi, categorias - 2))\n",
        "print(stats.chi2.cdf(result.statistic, categorias - 2))"
      ],
      "metadata": {
        "id": "MtU6GPzo0pvE",
        "colab": {
          "base_uri": "https://localhost:8080/"
        },
        "outputId": "4d84708a-ec11-41dd-85e9-7fd9c9627a9e"
      },
      "execution_count": null,
      "outputs": [
        {
          "output_type": "stream",
          "name": "stdout",
          "text": [
            "[0.02646801 0.06158566 0.15788711 0.17223418 0.34174199 0.34592185\n",
            " 0.3741022  0.44024543 0.44046201 0.47369495 0.51694343 0.54279065\n",
            " 0.55237318 0.57616947 0.79745821 0.82754944 0.90608701 1.08338496\n",
            " 1.10499602 1.14540754 1.16443953 1.24050136 1.38404728 1.51685882\n",
            " 1.56500812 1.5665835  1.79639036 1.80212531 1.96770266 2.08679786]\n",
            "Categorias: {} 6\n",
            "Observados:  [6 8 3 6 3 4]\n",
            "Bins:  [0.02646801 0.36985632 0.71324463 1.05663294 1.40002125 1.74340956\n",
            " 2.08679786]\n",
            "Probs [0.51055797 0.64425522 0.7621528  0.85466043 0.91924652 0.95936895\n",
            " 0.98154679]\n",
            "P: [0.13369724991574927, 0.1178975774495048, 0.09250762640817811, 0.06458609313989694, 0.04012242799442867, 0.022177845081863268]\n",
            "Longitud P: 6\n",
            "Esperados:  [4.0109175  3.53692732 2.77522879 1.93758279 1.20367284 0.66533535]\n",
            "Sumatioria esperados:  14.129664599688631\n",
            "Sumatoria observados:  30\n",
            "est_chi:  34.547934278241186\n",
            "Result.statistic:  34.547934278241186\n",
            "0.9999994247664201\n",
            "0.9999994247664201\n"
          ]
        }
      ]
    },
    {
      "cell_type": "code",
      "source": [
        "#prueba de Pearson con distribución exponencial\n",
        "obs, bins = np.histogram(normal, categorias)\n",
        "\n",
        "print(obs)\n",
        "print(bins)\n",
        "probs = 1- np.exp(-lam*bins)\n",
        "print(probs)\n",
        "P = []\n",
        "\n",
        "for k in range(1,categorias+1):\n",
        "    cc = probs[k] - probs[k-1]\n",
        "    P.append(cc)\n",
        "\n",
        "print(P)\n",
        "print(len(P))\n",
        "\n",
        "PROBS = np.array(P)\n",
        "esp = PROBS * len(normal)\n",
        "\n",
        "print(esp)\n",
        "\n",
        "print(sum(esp))\n",
        "print(sum(obs))\n",
        "\n",
        "est_chi = 0\n",
        "\n",
        "for k in range(categorias):\n",
        "    est_chi = est_chi + ((obs[k] - esp[k])**2)/esp[k]\n",
        "\n",
        "result = stats.chisquare(obs, esp, categorias - 1, axis = None )\n",
        "print(result.statistic)\n",
        "print(est_chi)\n",
        "print(stats.chi2.cdf(est_chi, categorias - 1))\n",
        "print(stats.chi2.cdf(result.statistic, categorias - 1))"
      ],
      "metadata": {
        "colab": {
          "base_uri": "https://localhost:8080/"
        },
        "id": "hXFtdJTEFeeN",
        "outputId": "507cc8e3-7bee-446e-f60a-cd43afa98bd9"
      },
      "execution_count": null,
      "outputs": [
        {
          "output_type": "stream",
          "name": "stdout",
          "text": [
            "[6 8 3 6 3 4]\n",
            "[0.02646801 0.36985632 0.71324463 1.05663294 1.40002125 1.74340956\n",
            " 2.08679786]\n",
            "[0.0261208  0.30916642 0.50994842 0.65237568 0.75340828 0.82507703\n",
            " 0.87591617]\n",
            "[0.2830456152464813, 0.2007820035293013, 0.1424272653230635, 0.10103259032598488, 0.0716687516594855, 0.050839139606895234]\n",
            "6\n",
            "[8.49136846 6.02346011 4.27281796 3.03097771 2.15006255 1.52517419]\n",
            "25.49386097073635\n",
            "30\n",
            "9.018806151092887\n",
            "9.018806151092887\n",
            "0.8916836091124611\n",
            "0.8916836091124611\n"
          ]
        }
      ]
    },
    {
      "cell_type": "markdown",
      "source": [
        "Como el valor resultante de la prueba chi-cuadrado dio menor a 0.95 se acepta la hipotesis nula"
      ],
      "metadata": {
        "id": "Y8fslXYLEb3y"
      }
    }
  ]
}