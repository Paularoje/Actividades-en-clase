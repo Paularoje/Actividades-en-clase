{
  "nbformat": 4,
  "nbformat_minor": 0,
  "metadata": {
    "colab": {
      "name": "Taller30-08-22.ipynb",
      "provenance": [],
      "collapsed_sections": []
    },
    "kernelspec": {
      "name": "python3",
      "display_name": "Python 3"
    },
    "language_info": {
      "name": "python"
    }
  },
  "cells": [
    {
      "cell_type": "markdown",
      "source": [
        "#Bootsrapping"
      ],
      "metadata": {
        "id": "TQ12DVI15gqB"
      }
    },
    {
      "cell_type": "markdown",
      "source": [
        "El bootstrapping (o bootstrap) es un método de remuestreo propuesto por Bradley Efron en 1979. Se utiliza para aproximar la distribución en el muestreo de un estadístico. Se usa frecuentemente para aproximar el sesgo o la varianza de un análisis estadístico, así como para construir intervalos de confianza o realizar contrastes de hipótesis sobre parámetros de interés."
      ],
      "metadata": {
        "id": "BejkidOx6a1m"
      }
    },
    {
      "cell_type": "code",
      "source": [
        "import pandas as pd\n",
        "import numpy as np\n",
        "import random"
      ],
      "metadata": {
        "id": "dwAxwCVQ9nqf"
      },
      "execution_count": 48,
      "outputs": []
    },
    {
      "cell_type": "code",
      "source": [
        "# Muestra aleatoria de 10,0000 personas que tienen una edad promedio de 34 años\n",
        "data = np.random.normal(loc = 34, size = 10000)\n",
        "data"
      ],
      "metadata": {
        "colab": {
          "base_uri": "https://localhost:8080/"
        },
        "id": "4UbZAqvo9oaP",
        "outputId": "21fd3191-014c-4ce4-e956-2b20a0811754"
      },
      "execution_count": 52,
      "outputs": [
        {
          "output_type": "execute_result",
          "data": {
            "text/plain": [
              "array([36.35852545, 34.10154052, 34.18987128, ..., 34.66133112,\n",
              "       33.11899861, 34.0679494 ])"
            ]
          },
          "metadata": {},
          "execution_count": 52
        }
      ]
    },
    {
      "cell_type": "code",
      "source": [
        "# Promedio de edad de la muestra anterior\n",
        "data.mean()"
      ],
      "metadata": {
        "colab": {
          "base_uri": "https://localhost:8080/"
        },
        "id": "jIFEZ6CE9qun",
        "outputId": "8e7e8c99-0ade-4fc4-eac8-c4ae73a8d9dd"
      },
      "execution_count": 53,
      "outputs": [
        {
          "output_type": "execute_result",
          "data": {
            "text/plain": [
              "34.000253459909935"
            ]
          },
          "metadata": {},
          "execution_count": 53
        }
      ]
    },
    {
      "cell_type": "markdown",
      "source": [
        "Iniciamos el procedimiento para calcular el promedio de edad a partir de bootstraping"
      ],
      "metadata": {
        "id": "VnWPYfJ-91u5"
      }
    },
    {
      "cell_type": "code",
      "source": [
        "# Creando 40 muestras de tamaño 5 para estimar el promedio\n",
        "promedio = []\n",
        "for i in range(40):\n",
        "  muestra = random.sample(data.tolist(), 5)\n",
        "  prom = np.mean(muestra)\n",
        "  promedio.append(prom)"
      ],
      "metadata": {
        "id": "Uw-1aX8M9t1X"
      },
      "execution_count": 54,
      "outputs": []
    },
    {
      "cell_type": "code",
      "source": [
        "np.mean(promedio)"
      ],
      "metadata": {
        "colab": {
          "base_uri": "https://localhost:8080/"
        },
        "id": "IZnOagQh97AQ",
        "outputId": "17a3f5b9-c603-4b22-8e3e-40df8337ed57"
      },
      "execution_count": 55,
      "outputs": [
        {
          "output_type": "execute_result",
          "data": {
            "text/plain": [
              "33.93251865633372"
            ]
          },
          "metadata": {},
          "execution_count": 55
        }
      ]
    },
    {
      "cell_type": "markdown",
      "source": [
        "#Kolmogorov - Smirnov"
      ],
      "metadata": {
        "id": "DTpZMjmB5kQ4"
      }
    },
    {
      "cell_type": "markdown",
      "source": [
        "A menudo, en estadística, necesitamos comprender si una muestra determinada proviene de una distribución específica, más comúnmente la distribución normal (o gaussiana). Para ello disponemos de los llamados test de normalidad, como el de Shapiro-Wilk, el de Anderson-Darling o el de Kolmogorov-Smirnov.\n",
        "\n",
        "Todos ellos miden la probabilidad de que una muestra provenga de una distribución normal, con un valor p relacionado para respaldar esta medida.\n",
        "\n",
        "La prueba de Kolmogorov-Smirnov, sin embargo, va un paso más allá y nos permite comparar dos muestras y nos dice la probabilidad de que ambas provengan de la misma distribución. Esta prueba es muy útil para evaluar modelos de regresión y clasificación."
      ],
      "metadata": {
        "id": "Fibr95AbIc_G"
      }
    },
    {
      "cell_type": "code",
      "source": [
        "from scipy import stats"
      ],
      "metadata": {
        "id": "8_oauQuJMtDE"
      },
      "execution_count": null,
      "outputs": []
    },
    {
      "cell_type": "code",
      "source": [
        "def cdf(sample, x, sort = False):\n",
        "    # Sorts the sample, if unsorted\n",
        "    if sort:\n",
        "        sample.sort()\n",
        "    # Counts how many observations are below x\n",
        "    cdf = sum(sample <= x)\n",
        "    # Divides by the total number of observations\n",
        "    cdf = cdf / len(sample)\n",
        "    return cdf"
      ],
      "metadata": {
        "id": "xPvdBGUeHN2e"
      },
      "execution_count": null,
      "outputs": []
    },
    {
      "cell_type": "markdown",
      "source": [
        "**Ejemplo 1: Prueba de Kolmogorov-Smirnov de una muestra**"
      ],
      "metadata": {
        "id": "_nqlf8IbC7Lf"
      }
    },
    {
      "cell_type": "markdown",
      "source": [
        "La prueba KS de \"1 muestra\" usa en gran medida para verificar si una muestra se distribuye normalmente. *Evaluación de la normalidad*"
      ],
      "metadata": {
        "id": "4rlVpwSMJLyO"
      }
    },
    {
      "cell_type": "code",
      "source": [
        "def ks_norm(sample):\n",
        "    # Sorts the sample\n",
        "    sample.sort()\n",
        "    # Evaluates the KS statistic\n",
        "    D_ks = [] # KS Statistic list\n",
        "    for x in sample:\n",
        "        cdf_normal = stats.norm.cdf(x = x, loc = 0, scale = 1)\n",
        "        cdf_sample = cdf(sample = sample, x  = x)\n",
        "        D_ks.append(abs(cdf_normal - cdf_sample))\n",
        "    ks_stat = max(D_ks)\n",
        "    # Calculates the P-Value based on the two-sided test\n",
        "    # The P-Value comes from the KS Distribution Survival Function (SF = 1-CDF)\n",
        "    p_value = stats.kstwo.sf(ks_stat, len(sample))\n",
        "    return {\"ks_stat\": ks_stat, \"p_value\" : p_value}"
      ],
      "metadata": {
        "id": "fLXcIfG6HSLm"
      },
      "execution_count": null,
      "outputs": []
    },
    {
      "cell_type": "code",
      "source": [
        "# Create random samples\n",
        "norm_a = np.random.normal(loc = 0, scale = 1, size = 500)\n",
        "norm_b = np.random.normal(loc = 0.1, scale = 1, size = 500)\n",
        "norm_c = np.random.normal(loc = 3, scale = 1, size = 500)\n",
        "f_a = np.random.f(dfnum = 5, dfden  = 10, size = 500)"
      ],
      "metadata": {
        "id": "gw99bkpxHUGO"
      },
      "execution_count": null,
      "outputs": []
    },
    {
      "cell_type": "code",
      "source": [
        "def standardize(sample):\n",
        "  return (sample-sample.mean())/sample.std()"
      ],
      "metadata": {
        "id": "UVcFTOlCNlb1"
      },
      "execution_count": null,
      "outputs": []
    },
    {
      "cell_type": "code",
      "source": [
        "# Performs the KS normality test in the samples\n",
        "ks_norm_a = ks_norm(standardize(norm_a))\n",
        "ks_norm_b = ks_norm(standardize(norm_b))\n",
        "ks_norm_c = ks_norm(standardize(norm_c))\n",
        "ks_f_a = ks_norm(standardize(f_a))\n",
        "# Prints the result\n",
        "print(f\"norm_a: ks = {ks_norm_a['ks_stat']:.4f} (p-value = {ks_norm_a['p_value']:.3e}, is normal = {ks_norm_a['p_value'] > 0.05})\")\n",
        "print(f\"norm_b: ks = {ks_norm_b['ks_stat']:.4f} (p-value = {ks_norm_b['p_value']:.3e}, is normal = {ks_norm_b['p_value'] > 0.05})\")\n",
        "print(f\"norm_c: ks = {ks_norm_c['ks_stat']:.4f} (p-value = {ks_norm_c['p_value']:.3e}, is normal = {ks_norm_c['p_value'] > 0.05})\")\n",
        "print(f\"f_a: ks = {ks_f_a['ks_stat']:.4f} (p-value = {ks_f_a['p_value']:.3e}, is normal = {ks_f_a['p_value'] > 0.05})\")"
      ],
      "metadata": {
        "colab": {
          "base_uri": "https://localhost:8080/"
        },
        "id": "nTmoYgrMHa6O",
        "outputId": "ad995a32-21ad-4e7b-cf59-6b6fdc596310"
      },
      "execution_count": null,
      "outputs": [
        {
          "output_type": "stream",
          "name": "stdout",
          "text": [
            "norm_a: ks = 0.0326 (p-value = 6.498e-01, is normal = True)\n",
            "norm_b: ks = 0.0254 (p-value = 8.949e-01, is normal = True)\n",
            "norm_c: ks = 0.0301 (p-value = 7.441e-01, is normal = True)\n",
            "f_a: ks = 0.1752 (p-value = 6.765e-14, is normal = False)\n"
          ]
        }
      ]
    },
    {
      "cell_type": "markdown",
      "source": [
        "Comparamos el valor p con la significación. Si p<0.05 rechazamos la hipótesis nula y asumimos que la muestra no proviene de una distribución normal, como ocurre con f_a. Las otras tres muestras se consideran normales, como se esperaba."
      ],
      "metadata": {
        "id": "zR7jUlnrL1C2"
      }
    },
    {
      "cell_type": "markdown",
      "source": [
        "Las muestras **norm_a** y **norm_b** provienen de una distribución normal y son realmente similares. La muestra **norm_c** también proviene de una distribución normal, pero con una media más alta. La **f_a** muestra proviene de una distribución F."
      ],
      "metadata": {
        "id": "aHRdhwF4Pn2O"
      }
    },
    {
      "cell_type": "markdown",
      "source": [
        "*Utilizando Scipy*"
      ],
      "metadata": {
        "id": "ZlHcHdHBYvn6"
      }
    },
    {
      "cell_type": "code",
      "source": [
        "# Evaluates the KS test con Scipy\n",
        "ks_norm_a = stats.ks_1samp(x = standardize(norm_a), cdf = stats.norm.cdf)\n",
        "ks_norm_b = stats.ks_1samp(x = standardize(norm_b), cdf = stats.norm.cdf)\n",
        "ks_norm_c = stats.ks_1samp(x = standardize(norm_c), cdf = stats.norm.cdf)\n",
        "ks_f_a = stats.ks_1samp(x = standardize(f_a), cdf = stats.norm.cdf)\n",
        "# Prints the result\n",
        "print(ks_norm_a)\n",
        "print(ks_norm_b)\n",
        "print(ks_norm_c)\n",
        "print(ks_f_a)"
      ],
      "metadata": {
        "colab": {
          "base_uri": "https://localhost:8080/"
        },
        "id": "IfMMuN8mHqf2",
        "outputId": "3e98a7eb-4c32-49ee-8a7a-894a3c7195fb"
      },
      "execution_count": null,
      "outputs": [
        {
          "output_type": "stream",
          "name": "stdout",
          "text": [
            "KstestResult(statistic=0.03261445027727561, pvalue=0.6497811985101853)\n",
            "KstestResult(statistic=0.027416753410563294, pvalue=0.8363021034453832)\n",
            "KstestResult(statistic=0.030087575192675964, pvalue=0.7441252601492239)\n",
            "KstestResult(statistic=0.1752158314197968, pvalue=6.765041816963118e-14)\n"
          ]
        }
      ]
    },
    {
      "cell_type": "markdown",
      "source": [
        "**Ejemplo 2: Prueba de Kolmogorov-Smirnov de dos muestras**"
      ],
      "metadata": {
        "id": "EExfYCeJDHcu"
      }
    },
    {
      "cell_type": "code",
      "source": [
        "def ks_2samp(sample1, sample2):\n",
        "    # Gets all observations\n",
        "    observations = np.concatenate((sample1, sample2))\n",
        "    observations.sort()\n",
        "    # Sorts the samples\n",
        "    sample1.sort()\n",
        "    sample2.sort()\n",
        "    # Evaluates the KS statistic\n",
        "    D_ks = [] # KS Statistic list\n",
        "    for x in observations:\n",
        "        cdf_sample1 = cdf(sample = sample1, x  = x)\n",
        "        cdf_sample2 = cdf(sample = sample2, x  = x)\n",
        "        D_ks.append(abs(cdf_sample1 - cdf_sample2))\n",
        "    ks_stat = max(D_ks)\n",
        "    # Calculates the P-Value based on the two-sided test\n",
        "    # The P-Value comes from the KS Distribution Survival Function (SF = 1-CDF)\n",
        "    m, n = float(len(sample1)), float(len(sample2))\n",
        "    en = m * n / (m + n)\n",
        "    p_value = stats.kstwo.sf(ks_stat, np.round(en))\n",
        "    return {\"ks_stat\": ks_stat, \"p_value\" : p_value}"
      ],
      "metadata": {
        "id": "oFyqYaQjHUtO"
      },
      "execution_count": null,
      "outputs": []
    },
    {
      "cell_type": "code",
      "source": [
        "# Evaluates all possible combinations.\n",
        "# We want to know if the distributions are identical, so we cannot standardize them\n",
        "sets = [norm_a, norm_b, norm_c, f_a]\n",
        "names = ['norm_a', 'norm_b', 'norm_c', 'f_a']\n",
        "ks_scores = {}\n",
        "for _ in range(len(names)):\n",
        "    name1 = names.pop(0)\n",
        "    sample1 = sets.pop(0)\n",
        "    for name2, sample2 in zip(names, sets):\n",
        "        key1 = name1 + \"_\" +  name2\n",
        "        key2 = name2 + \"_\" +  name1\n",
        "        ks = ks_2samp(sample1, sample2) # con Scipy: stats.ks_2samp(sample1, sample2)\n",
        "        ks_scores[key1] = ks\n",
        "        ks_scores[key2] = ks\n",
        "# Prints the results\n",
        "print(f\"norm_a vs norm_b: ks = {ks_scores['norm_a_norm_b']['ks_stat']:.4f} (p-value = {ks_scores['norm_a_norm_b']['p_value']:.3e}, are equal = {ks_scores['norm_a_norm_b']['p_value'] > 0.05})\")\n",
        "print(f\"norm_a vs norm_c: ks = {ks_scores['norm_a_norm_c']['ks_stat']:.4f} (p-value = {ks_scores['norm_a_norm_c']['p_value']:.3e}, are equal = {ks_scores['norm_a_norm_c']['p_value'] > 0.05})\")\n",
        "print(f\"norm_a vs f_a: ks = {ks_scores['norm_a_f_a']['ks_stat']:.4f} (p-value = {ks_scores['norm_a_f_a']['p_value']:.3e}, are equal = {ks_scores['norm_a_f_a']['p_value'] > 0.05})\")\n",
        "print(f\"norm_b vs norm_c: ks = {ks_scores['norm_b_norm_c']['ks_stat']:.4f} (p-value = {ks_scores['norm_b_norm_c']['p_value']:.3e}, are equal = {ks_scores['norm_b_norm_c']['p_value'] > 0.05})\")\n",
        "print(f\"norm_b vs f_a: ks = {ks_scores['norm_b_f_a']['ks_stat']:.4f} (p-value = {ks_scores['norm_b_f_a']['p_value']:.3e}, are equal = {ks_scores['norm_b_f_a']['p_value'] > 0.05})\")\n",
        "print(f\"norm_c vs f_a: ks = {ks_scores['norm_c_f_a']['ks_stat']:.4f} (p-value = {ks_scores['norm_c_f_a']['p_value']:.3e}, are equal = {ks_scores['norm_c_f_a']['p_value'] > 0.05})\")"
      ],
      "metadata": {
        "colab": {
          "base_uri": "https://localhost:8080/"
        },
        "id": "hX8QT95VHvHv",
        "outputId": "319d70d2-5c11-4b7c-da60-29b009281e41"
      },
      "execution_count": null,
      "outputs": [
        {
          "output_type": "stream",
          "name": "stdout",
          "text": [
            "norm_a vs norm_b: ks = 0.0800 (p-value = 7.715e-02, are equal = True)\n",
            "norm_a vs norm_c: ks = 0.8740 (p-value = 4.234e-225, are equal = False)\n",
            "norm_a vs f_a: ks = 0.5560 (p-value = 2.993e-73, are equal = False)\n",
            "norm_b vs norm_c: ks = 0.8640 (p-value = 1.169e-216, are equal = False)\n",
            "norm_b vs f_a: ks = 0.5020 (p-value = 8.147e-59, are equal = False)\n",
            "norm_c vs f_a: ks = 0.7140 (p-value = 2.591e-129, are equal = False)\n"
          ]
        }
      ]
    },
    {
      "cell_type": "markdown",
      "source": [
        "Como era de esperar, solo las muestras **norm_a** y **norm_b** se pueden muestrear de la misma distribución para una significancia del 5%. No podemos considerar que las distribuciones de todos los demás pares sean iguales."
      ],
      "metadata": {
        "id": "aaSAVbijMTx9"
      }
    },
    {
      "cell_type": "markdown",
      "source": [
        "##**Bibliografía**\n",
        "\n",
        "*   https://deepnote.com/@a_mas/Bootstrapping-en-Python-9ad885fd-c261-475e-b2b7-6461fd65490a\n",
        "*   https://towardsdatascience.com/comparing-sample-distributions-with-the-kolmogorov-smirnov-ks-test-a2292ad6fee5\n",
        "\n"
      ],
      "metadata": {
        "id": "TmLEYApLH4AW"
      }
    }
  ]
}