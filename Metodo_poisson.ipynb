{
  "nbformat": 4,
  "nbformat_minor": 0,
  "metadata": {
    "colab": {
      "name": "Metodo_poisson.ipynb",
      "provenance": [],
      "collapsed_sections": []
    },
    "kernelspec": {
      "name": "python3",
      "display_name": "Python 3"
    },
    "language_info": {
      "name": "python"
    }
  },
  "cells": [
    {
      "cell_type": "code",
      "source": [
        "import numpy as np\n",
        "import random\n",
        "import math as m\n",
        "import statistics as stat\n",
        "import scipy.stats as stat2"
      ],
      "metadata": {
        "id": "KYiyPT7LoFUz"
      },
      "execution_count": null,
      "outputs": []
    },
    {
      "cell_type": "markdown",
      "source": [
        "# Generacion de variable aleatoria poisson"
      ],
      "metadata": {
        "id": "zdvUG8ChoOG0"
      }
    },
    {
      "cell_type": "code",
      "execution_count": null,
      "metadata": {
        "id": "kqyyjNrXjK-N",
        "colab": {
          "base_uri": "https://localhost:8080/"
        },
        "outputId": "b7d6de6a-5b56-41e1-df62-2c9ff574fefb"
      },
      "outputs": [
        {
          "output_type": "stream",
          "name": "stdout",
          "text": [
            "[2, 3, 5, 1, 4, 3, 3, 6, 3, 4, 8, 1, 3, 5, 3, 2, 2, 3, 6, 4, 1, 4, 5, 1, 6, 3, 4, 4, 3, 3, 4, 3, 0, 6, 2, 5, 2, 2, 4, 1, 3, 8, 1, 2, 3, 3, 1, 3, 2, 10, 1, 4, 3, 2, 2, 3, 4, 1, 4, 1, 0, 3, 4, 5, 2, 2, 3, 6, 5, 4, 3, 4, 0, 2, 5, 5, 5, 3, 2, 4, 6, 4, 2, 1, 2, 2, 5, 3, 6, 3, 2, 2, 1, 3, 1, 4, 5, 5, 1, 7, 3, 2, 5, 4, 4, 3, 4, 6, 2, 2, 4, 1, 1, 1, 1, 3, 5, 1, 2, 3, 3, 2, 1, 1, 3, 5, 2, 1, 4, 4, 9, 4, 3, 3, 2, 3, 4, 2, 1, 2, 2, 5, 2, 3, 5, 5, 3, 3, 1, 3, 1, 3, 3, 4, 3, 2, 1, 2, 3, 1, 4, 4, 1, 0, 2, 1, 10, 5, 3, 5, 2, 5, 2, 1, 0, 5, 2, 4, 0, 4, 3, 6, 2, 1, 6, 2, 5, 3, 3, 0, 5, 7, 3, 3, 4, 2, 8, 2, 4, 3, 1, 0, 4, 3, 4, 7, 3, 1, 3, 2, 2, 4, 3, 3, 0, 2, 4, 6, 6, 5, 6, 2, 2, 2, 1, 3, 3, 6, 2, 2, 2, 1, 1, 0, 4, 2, 5, 0, 2, 3, 4, 5, 3, 2, 4, 5, 3, 3, 5, 3, 6, 2, 2, 5, 3, 3, 2, 2, 4, 4, 0, 2, 5, 2, 2, 2, 2, 4, 3, 3, 0, 2, 4, 5, 3, 3, 2, 7, 1, 5, 5, 1, 4, 3, 4, 5, 5, 5, 7, 5, 2, 4, 2, 1, 7, 1, 3, 3, 3, 1, 1, 7, 3, 3, 3, 2, 5, 2, 4, 2, 1, 7, 2, 3, 3, 2, 4, 3, 2, 2, 0, 2, 8, 4, 3, 1, 2, 3, 3, 4, 3, 2, 5, 2, 2, 2, 6, 1, 2, 2, 4, 5, 2, 4, 3, 4, 5, 1, 2, 2, 6, 5, 0, 2, 0, 3, 1, 4, 4, 4, 8, 2, 3, 2, 3, 3, 4, 8, 4, 1, 3, 2, 5, 3, 4, 1, 3, 5, 4, 2, 2, 3, 2, 5, 2, 1, 2, 2, 2, 4, 3, 1, 2, 1, 1, 2, 3, 2, 2, 5, 3, 3, 4, 7, 4, 1, 3, 4, 1, 4, 6, 2, 3, 2, 3, 4, 2, 2, 4, 2, 7, 3, 1, 3, 2, 5, 3, 2, 2, 2, 3, 4, 4, 4, 3, 3, 2, 3, 5, 4, 5, 3, 0, 4, 3, 3, 4, 3, 1, 4, 2, 3, 0, 2, 0, 1, 1, 0, 3, 1, 2, 4, 5, 2, 2, 4, 5, 4, 0, 3, 4, 6, 2, 1, 5, 4, 3, 2, 5, 2, 0, 4, 2, 4, 4, 1, 2, 3, 4, 3, 0, 5, 4, 2, 5, 3, 1, 4, 5, 2]\n",
            "3\n"
          ]
        }
      ],
      "source": [
        "lamda = random.randrange( 10 ) # Numero entero aleatorio (0 - 10) (lambda = Media)\n",
        "U = np.random.random( 500 ) # Numeros aleatorios (0 - 1)\n",
        "\n",
        "\n",
        "Xp = [] # Lista que guarda numeros aleatorios Poisson\n",
        "\n",
        "for u in U:\n",
        "    i = 0\n",
        "    p = np.exp( -lamda )\n",
        "    F = p\n",
        "    band = 0\n",
        "    while ( band == 0 ):\n",
        "        if ( u < F ):\n",
        "            Xp.append( i )\n",
        "            band = 1\n",
        "        else:\n",
        "            p = ( lamda*p )/( i + 1 )\n",
        "            F = F + p\n",
        "            i = i + 1\n",
        "\n",
        "print( Xp )\n",
        "print(lamda)"
      ]
    },
    {
      "cell_type": "markdown",
      "source": [
        "# Prueba de bondad de ajuste (Prueba de pearson)"
      ],
      "metadata": {
        "id": "NELm48QIoQcy"
      }
    },
    {
      "cell_type": "code",
      "source": [
        "recorridos = np.unique(Xp)\n",
        "\n",
        "print( 'Recorridos: ', recorridos )\n",
        "\n",
        "categorias = len( recorridos ) # Numero de categorias\n",
        "print( 'Categorias: ', categorias)\n",
        "\n",
        "Xp = np.sort( Xp )\n",
        "unique, counts = np.unique(Xp, return_counts=True)\n",
        "print(dict(zip(unique, counts)));\n",
        "  \n",
        "observados, bins = np.histogram( Xp, categorias )\n",
        "print( 'Observados: ', observados )\n",
        "print( 'Bins: ', bins )\n",
        "\n",
        "mu = lamda\n",
        "probs = stat2.poisson.pmf( recorridos, mu ) # Funcion de probabilidad de masa (pmf)\n",
        "print( 'Probs', probs )\n",
        "print( 'Longitud de probs:', len(probs) )\n",
        "\n",
        "PROBS = np.array( probs )\n",
        "esperados = PROBS * len( Xp )\n",
        "print( 'Esperados: ', esperados )\n",
        "print( 'Sumatioria esperados: ', sum(esperados) )\n",
        "print( 'Sumatoria observados: ', sum(observados) )\n",
        "\n",
        "est_chi = 0\n",
        "for k in range( categorias ):\n",
        "    est_chi = est_chi + ((observados[k] - esperados[k])**2)/esperados[k]\n",
        "\n",
        "print('est_chi: ', est_chi)\n",
        "\n",
        "result = stat2.chisquare(observados, esperados, categorias - 1, axis = None )\n",
        "print(result.statistic)\n",
        "\n",
        "print(stat2.chi2.cdf(est_chi, categorias - 1))\n",
        "print(stat2.chi2.cdf(result.statistic, categorias - 1))"
      ],
      "metadata": {
        "colab": {
          "base_uri": "https://localhost:8080/"
        },
        "id": "fib1A8PIoK2-",
        "outputId": "b1af5939-e804-41e4-9a27-11639791b475"
      },
      "execution_count": null,
      "outputs": [
        {
          "output_type": "stream",
          "name": "stdout",
          "text": [
            "Recorridos:  [ 0  1  2  3  4  5  6  7  8  9 10]\n",
            "Categorias:  11\n",
            "{0: 23, 1: 63, 2: 120, 3: 114, 4: 85, 5: 57, 6: 19, 7: 10, 8: 6, 9: 1, 10: 2}\n",
            "Observados:  [ 23  63 120 114  85  57  19  10   6   1   2]\n",
            "Bins:  [ 0.          0.90909091  1.81818182  2.72727273  3.63636364  4.54545455\n",
            "  5.45454545  6.36363636  7.27272727  8.18181818  9.09090909 10.        ]\n",
            "Probs [0.04978707 0.14936121 0.22404181 0.22404181 0.16803136 0.10081881\n",
            " 0.05040941 0.02160403 0.00810151 0.0027005  0.00081015]\n",
            "Longitud de probs: 11\n",
            "Esperados:  [ 24.89353418  74.68060255 112.02090383 112.02090383  84.01567787\n",
            "  50.40940672  25.20470336  10.80201573   4.0507559    1.35025197\n",
            "   0.40507559]\n",
            "Sumatioria esperados:  499.85383152467637\n",
            "Sumatoria observados:  500\n",
            "est_chi:  12.343056403137751\n",
            "12.343056403137751\n",
            "0.7372471527144204\n",
            "0.7372471527144204\n"
          ]
        }
      ]
    },
    {
      "cell_type": "markdown",
      "source": [
        "Como el valor resultante de la prueba chi-cuadrado dio menor a 0.95 se acepta la hipotesis nula"
      ],
      "metadata": {
        "id": "eqWeNicWEBfH"
      }
    }
  ]
}