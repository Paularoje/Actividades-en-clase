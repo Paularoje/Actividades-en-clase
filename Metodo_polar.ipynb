{
  "nbformat": 4,
  "nbformat_minor": 0,
  "metadata": {
    "colab": {
      "name": "MétodoPolar.ipynb",
      "provenance": [],
      "collapsed_sections": []
    },
    "kernelspec": {
      "name": "python3",
      "display_name": "Python 3"
    },
    "language_info": {
      "name": "python"
    }
  },
  "cells": [
    {
      "cell_type": "code",
      "source": [
        "import time as tm\n",
        "import random as rnd\n",
        "import math as m\n",
        "import numpy as np\n",
        "import matplotlib.pyplot as plt\n",
        "import scipy.stats as stats\n",
        "import scipy.stats as stat2\n",
        "import seaborn as sns\n",
        "import pandas as pd "
      ],
      "metadata": {
        "id": "Q27ocbXQlliG"
      },
      "execution_count": null,
      "outputs": []
    },
    {
      "cell_type": "code",
      "execution_count": null,
      "metadata": {
        "id": "PtUVm9Z4lbTv"
      },
      "outputs": [],
      "source": [
        "#Metódo de polares\n",
        "N=100\n",
        "\n",
        "z3=[]\n",
        "z4=[]\n",
        "\n",
        "t3=tm.time()\n",
        "count=0\n",
        "for i in range(N):\n",
        "  aceptado=False\n",
        "  while aceptado==False:\n",
        "    v1, v2= 2*rnd.random()-1, 2*rnd.random()-1\n",
        "    s=v1**2+v2**2\n",
        "    count=+1\n",
        "    if s<1:\n",
        "      x= m.sqrt((-2*m.log(s))/s)*v1\n",
        "      y= m.sqrt((-2*m.log(s))/s)*v2\n",
        "      z3.append(x)\n",
        "      z4.append(y)\n",
        "      aceptado=True\n",
        "      print(str(x)+\" , \"+str(y))\n",
        "t4=tm.time()\n",
        "\n",
        "t_polar=t4-t3\n",
        "print(\"tiempo de ejecución \"+ str(t_polar))\n",
        "print(str(N) + \" valores de la primera normal estándar\")\n",
        "print(z3)\n",
        "print(str(N) + \" valores de la segunda normal estándar\")\n",
        "print(z4)"
      ]
    },
    {
      "cell_type": "markdown",
      "source": [
        "Se utiliza distribución normal para la prueba de pearson"
      ],
      "metadata": {
        "id": "G_WGpkvylvUt"
      }
    },
    {
      "cell_type": "markdown",
      "source": [
        "# Prueba de bondad de ajuste (Prueba de pearson)"
      ],
      "metadata": {
        "id": "jncoOv2emEBN"
      }
    },
    {
      "cell_type": "code",
      "source": [
        "categorias = round(1 + (m.log(len(z3)))/(m.log(2))) # Numero de categorias\n",
        "maximo = max( z3 ) # Numero maximo de la lista generada\n",
        "print( 'Categorias: {}'.format( maximo ) )\n",
        "\n",
        "observados, bins = np.histogram( z3, categorias )\n",
        "print( 'Observados: ', observados )\n",
        "print( 'Bins: ', bins )\n",
        "\n",
        "\n",
        "probs = stat2.norm.cdf(bins) # Funcion de distribucion (cdf)\n",
        "\n",
        "print( 'Probs', probs )\n",
        "\n",
        "P = []\n",
        "for k in range( 1, categorias+1 ):\n",
        "    cc = probs[k] - probs[k-1]\n",
        "    P.append( cc )\n",
        "\n",
        "print( 'P:', P )\n",
        "print( 'Longitud P:', len(P) )\n",
        "\n",
        "PROBS = np.array(P)\n",
        "esperados = PROBS * len( z3 )\n",
        "print( 'Esperados: ', esperados )\n",
        "print( 'Sumatioria esperados: ', sum(esperados) )\n",
        "print( 'Sumatoria observados: ', sum(observados) )\n",
        "\n",
        "est_chi = 0\n",
        "for k in range( categorias ):\n",
        "    est_chi = est_chi + ((observados[k] - esperados[k])**2)/esperados[k]\n",
        "print('est_chi: ', est_chi)\n",
        "\n",
        "result = stat2.chisquare(observados, esperados, categorias - 2, axis = None )\n",
        "print('Result.statistic: ', result.statistic)\n",
        "print(stat2.chi2.cdf(est_chi, categorias - 2))\n",
        "print(stat2.chi2.cdf(result.statistic, categorias - 2))"
      ],
      "metadata": {
        "id": "rNQfZhiol77H",
        "colab": {
          "base_uri": "https://localhost:8080/"
        },
        "outputId": "6e01e04b-308f-4403-a472-1e0b0f4b8b39"
      },
      "execution_count": null,
      "outputs": [
        {
          "output_type": "stream",
          "name": "stdout",
          "text": [
            "Categorias: 2.098979918658159\n",
            "Observados:  [ 3 11 12 16 18 21 13  6]\n",
            "Bins:  [-2.55673112 -1.97476724 -1.39280336 -0.81083948 -0.2288756   0.35308828\n",
            "  0.93505216  1.51701604  2.09897992]\n",
            "Probs [0.00528304 0.02414728 0.08183963 0.20872893 0.4094828  0.63798887\n",
            " 0.82511929 0.93536868 0.98209066]\n",
            "P: [0.018864241326893825, 0.057692346601548025, 0.12688929807613153, 0.20075387317151955, 0.22850606786363098, 0.1871304201686932, 0.1102493927564383, 0.04672198189137067]\n",
            "Longitud P: 8\n",
            "Esperados:  [ 1.88642413  5.76923466 12.68892981 20.07538732 22.85060679 18.71304202\n",
            " 11.02493928  4.67219819]\n",
            "Sumatioria esperados:  97.68076218562261\n",
            "Sumatoria observados:  100\n",
            "est_chi:  8.304962200645756\n",
            "Result.statistic:  8.304962200645756\n",
            "0.7833985199050343\n",
            "0.7833985199050343\n"
          ]
        }
      ]
    },
    {
      "cell_type": "markdown",
      "source": [
        "Como el valor resultante de la prueba chi-cuadrado dio menor a 0.95 se acepta la hipotesis nula"
      ],
      "metadata": {
        "id": "SPNhjaczEIkE"
      }
    },
    {
      "cell_type": "code",
      "source": [
        "plt.hist(z3, bins=categorias)"
      ],
      "metadata": {
        "colab": {
          "base_uri": "https://localhost:8080/",
          "height": 334
        },
        "id": "SP_h85tEFbpC",
        "outputId": "3132741e-a778-457f-a648-27fc285cf18b"
      },
      "execution_count": null,
      "outputs": [
        {
          "output_type": "execute_result",
          "data": {
            "text/plain": [
              "(array([ 4., 10., 13., 22., 21., 21.,  7.,  2.]),\n",
              " array([-2.37548868, -1.78066583, -1.18584297, -0.59102012,  0.00380273,\n",
              "         0.59862559,  1.19344844,  1.78827129,  2.38309414]),\n",
              " <a list of 8 Patch objects>)"
            ]
          },
          "metadata": {},
          "execution_count": 9
        },
        {
          "output_type": "display_data",
          "data": {
            "text/plain": [
              "<Figure size 432x288 with 1 Axes>"
            ],
            "image/png": "[encoded data removed]"
          },
          "metadata": {
            "needs_background": "light"
          }
        }
      ]
    },
    {
      "cell_type": "code",
      "source": [
        "x=bins[:-1]\n",
        "plt.bar(x, esperados)"
      ],
      "metadata": {
        "colab": {
          "base_uri": "https://localhost:8080/",
          "height": 282
        },
        "id": "-NkFZ6cnF2Ux",
        "outputId": "41e7c0af-7e98-4732-db60-de1040bb7bd4"
      },
      "execution_count": null,
      "outputs": [
        {
          "output_type": "execute_result",
          "data": {
            "text/plain": [
              "<BarContainer object of 8 artists>"
            ]
          },
          "metadata": {},
          "execution_count": 12
        },
        {
          "output_type": "display_data",
          "data": {
            "text/plain": [
              "<Figure size 432x288 with 1 Axes>"
            ],
            "image/png": "[encoded data removed]"
          },
          "metadata": {
            "needs_background": "light"
          }
        }
      ]
    }
  ]
}